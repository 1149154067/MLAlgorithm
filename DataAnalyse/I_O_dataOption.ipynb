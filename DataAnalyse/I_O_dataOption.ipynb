{
 "cells": [
  {
   "cell_type": "code",
   "execution_count": 1,
   "metadata": {
    "collapsed": false
   },
   "outputs": [
    {
     "name": "stdout",
     "output_type": "stream",
     "text": [
      "   white  red  blue  green animal\n0    1.0    1   0.0      0    cat\n1    1.0    1   0.0      1    pig\n2    0.0    1   1.0      1    dog\n3    1.0    1   1.0      0    mjl\n4    1.9   12   9.1     -9    xmq\n   white  red  blue  green animal\n0    1.0    1   0.0      0    cat\n1    1.0    1   0.0      1    pig\n2    0.0    1   1.0      1    dog\n3    1.0    1   1.0      0    mjl\n4    1.9   12   9.1     -9    xmq\n"
     ]
    }
   ],
   "source": [
    "import numpy as np\n",
    "import os\n",
    "import pandas as pd\n",
    "os.getcwd()\n",
    "csvframe01 = pd.read_csv('DataAnalyse/csv_test_data/csv01.csv')\n",
    "print(csvframe01)\n",
    "#用read_table方式读取csv文件\n",
    "csvframe02 = pd.read_table('DataAnalyse/csv_test_data/csv01.csv',sep=',')#返回的都是一个DATa Frame对象\n",
    "print(csvframe02)"
   ]
  },
  {
   "cell_type": "code",
   "execution_count": 2,
   "metadata": {
    "collapsed": true
   },
   "outputs": [
    {
     "name": "stdout",
     "output_type": "stream",
     "text": [
      "     0   1    2  3    4\n0  1.0   1  0.0  0  cat\n1  1.0   1  0.0  1  pig\n2  0.0   1  1.0  1  dog\n3  1.0   1  1.0  0  mjl\n4  1.9  12  9.1 -9  xmq\n   white  blue  black  red thing\n0    1.0     1    0.0    0   cat\n1    1.0     1    0.0    1   pig\n2    0.0     1    1.0    1   dog\n3    1.0     1    1.0    0   mjl\n4    1.9    12    9.1   -9   xmq\n"
     ]
    }
   ],
   "source": [
    "#没有表头的csv文件的读写（指定表头)\n",
    "csvframe03 = pd.read_csv('DataAnalyse/csv_test_data/csv02.csv',header=None)#设置header为None，pandas会自动添加表头\n",
    "print(csvframe03)\n",
    "#用names制定属性\n",
    "csvframe04 = pd.read_csv('DataAnalyse/csv_test_data/csv02.csv',names=['white','blue','black','red','thing'])\n",
    "print(csvframe04)"
   ]
  },
  {
   "cell_type": "code",
   "execution_count": null,
   "metadata": {
    "collapsed": true
   },
   "outputs": [
    {
     "name": "stdout",
     "output_type": "stream",
     "text": [
      "              item1  item2  item3  item4 result\ncolor status                                   \nwhite up        1.0      1    0.0      0    cat\n      down      1.0      1    0.0      1    pig\nred   up        0.0      1    1.0      1    dog\n      down      1.0      1    1.0      0    mjl\n      up        1.9     12    9.1     -9    xmq\n"
     ]
    }
   ],
   "source": [
    "#多级索引\n",
    "csvframe05 = pd.read_csv('DataAnalyse/csv_test_data/csv03.csv',index_col=['color','status'])\n",
    "print(csvframe05)\n"
   ]
  },
  {
   "cell_type": "code",
   "execution_count": 3,
   "metadata": {
    "collapsed": true
   },
   "outputs": [
    {
     "name": "stdout",
     "output_type": "stream",
     "text": [
      "   white  red  green  blue  black\n0      0    1      0     0      1\n1      1    0      0     0      0\n2      1    1      1     1      0\n3      1    0      0     1      0\n4      0    0      0     0      1\n"
     ]
    },
    {
     "name": "stderr",
     "output_type": "stream",
     "text": [
      "D:\\ProgramData\\Anaconda3\\lib\\site-packages\\pandas\\io\\parsers.py:2138: FutureWarning: split() requires a non-empty pattern match.\n  yield pat.split(line.strip())\nD:\\ProgramData\\Anaconda3\\lib\\site-packages\\pandas\\io\\parsers.py:2140: FutureWarning: split() requires a non-empty pattern match.\n  yield pat.split(line.strip())\n"
     ]
    }
   ],
   "source": [
    "#用正则表达式（RegExp）解析txt文档///返回的都是dataFrame对象\n",
    "txtframe01 = pd.read_table('DataAnalyse/csv_test_data/txt01.txt',sep='\\s*',engine='python')\n",
    "print(txtframe01)\n"
   ]
  },
  {
   "cell_type": "code",
   "execution_count": 4,
   "metadata": {
    "collapsed": true
   },
   "outputs": [
    {
     "name": "stdout",
     "output_type": "stream",
     "text": [
      "0    0\n1    1\n2    2\n3    3\ndtype: int32\n"
     ]
    }
   ],
   "source": [
    "#往csv文件些数据\n",
    "ser = pd.Series(np.arange(4))\n",
    "print(ser)\n",
    "mydict_1 = {'color':['red','green','yellow','black'],'object':['blood','tree','video','pen'],'value':[12,34.8,23.9,-11.98]}\n",
    "frame = pd.DataFrame(mydict_1)#构建一个frameData对\n",
    "frame.to_csv('DataAnalyse/csv_test_data/csv04.csv')"
   ]
  },
  {
   "cell_type": "code",
   "execution_count": 7,
   "metadata": {
    "collapsed": true
   },
   "outputs": [
    {
     "name": "stdout",
     "output_type": "stream",
     "text": [
      "['setosa' 'versicolor' 'virginica']\n[[0 0 0 0 0 0 0 0 0 0 0 0 0 0 0 0 0 0 0 0 0 0 0 0 0 0 0 0 0 0 0 0 0 0 0 0 0\n  0 0 0 0 0 0 0 0 0 0 0 0 0]\n [1 1 1 1 1 1 1 1 1 1 1 1 1 1 1 1 1 1 1 1 1 1 1 1 1 1 1 1 1 1 1 1 1 1 1 1 1\n  1 1 1 1 1 1 1 1 1 1 1 1 1]\n [2 2 2 2 2 2 2 2 2 2 2 2 2 2 2 2 2 2 2 2 2 2 2 2 2 2 2 2 2 2 2 2 2 2 2 2 2\n  2 2 2 2 2 2 2 2 2 2 2 2 2]]"
     ]
    },
    {
     "name": "stdout",
     "output_type": "stream",
     "text": [
      "\n[ 5.1  4.9  4.7  4.6  5.   5.4  4.6  5.   4.4  4.9  5.4  4.8  4.8  4.3  5.8\n  5.7  5.4  5.1  5.7  5.1  5.4  5.1  4.6  5.1  4.8  5.   5.   5.2  5.2  4.7\n  4.8  5.4  5.2  5.5  4.9  5.   5.5  4.9  4.4  5.1  5.   4.5  4.4  5.   5.1\n  4.8  5.1  4.6  5.3  5.   7.   6.4  6.9  5.5  6.5  5.7  6.3  4.9  6.6  5.2\n  5.   5.9  6.   6.1  5.6  6.7  5.6  5.8  6.2  5.6  5.9  6.1  6.3  6.1  6.4\n  6.6  6.8  6.7  6.   5.7  5.5  5.5  5.8  6.   5.4  6.   6.7  6.3  5.6  5.5\n  5.5  6.1  5.8  5.   5.6  5.7  5.7  6.2  5.1  5.7  6.3  5.8  7.1  6.3  6.5\n  7.6  4.9  7.3  6.7  7.2  6.5  6.4  6.8  5.7  5.8  6.4  6.5  7.7  7.7  6.\n  6.9  5.6  7.7  6.3  6.7  7.2  6.2  6.1  6.4  7.2  7.4  7.9  6.4  6.3  6.1\n  7.7  6.3  6.4  6.   6.9  6.7  6.9  5.8  6.8  6.7  6.7  6.3  6.5  6.2  5.9]\n[0 0 0 0 0 0 0 0 0 0 0 0 0 0 0 0 0 0 0 0 0 0 0 0 0 0 0 0 0 0 0 0 0 0 0 0 0\n 0 0 0 0 0 0 0 0 0 0 0 0 0 1 1 1 1 1 1 1 1 1 1 1 1 1 1 1 1 1 1 1 1 1 1 1 1\n 1 1 1 1 1 1 1 1 1 1 1 1 1 1 1 1 1 1 1 1 1 1 1 1 1 1 2 2 2 2 2 2 2 2 2 2 2\n 2 2 2 2 2 2 2 2 2 2 2 2 2 2 2 2 2 2 2 2 2 2 2 2 2 2 2 2 2 2 2 2 2 2 2 2 2\n 2 2]\n"
     ]
    }
   ],
   "source": [
    "from sklearn import datasets\n",
    "iris = datasets.load_iris()\n",
    "print(iris.target_names)\n",
    "print(iris.target.reshape(3,50))\n",
    "print(iris.data[:,0])\n",
    "print(iris.target)"
   ]
  },
  {
   "cell_type": "code",
   "execution_count": 8,
   "metadata": {},
   "outputs": [],
   "source": []
  },
  {
   "cell_type": "code",
   "execution_count": null,
   "metadata": {},
   "outputs": [],
   "source": []
  }
 ],
 "metadata": {
  "kernelspec": {
   "display_name": "Python 2",
   "language": "python",
   "name": "python2"
  },
  "language_info": {
   "codemirror_mode": {
    "name": "ipython",
    "version": 2
   },
   "file_extension": ".py",
   "mimetype": "text/x-python",
   "name": "python",
   "nbconvert_exporter": "python",
   "pygments_lexer": "ipython2",
   "version": "2.7.6"
  }
 },
 "nbformat": 4,
 "nbformat_minor": 0
}
