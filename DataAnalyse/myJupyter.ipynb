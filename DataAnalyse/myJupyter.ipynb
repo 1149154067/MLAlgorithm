{
  "cells": [
    {
      "cell_type": "code",
      "execution_count": 1,
      "metadata": {
        "collapsed": false,
        "pycharm": {
          "is_executing": false
        }
      },
      "outputs": [
        {
          "name": "stdout",
          "text": [
            "time.struct_time(tm_year\u003d2019, tm_mon\u003d5, tm_mday\u003d2, tm_hour\u003d10, tm_min\u003d34, tm_sec\u003d58, tm_wday\u003d3, tm_yday\u003d122, tm_isdst\u003d0)\n"
          ],
          "output_type": "stream"
        }
      ],
      "source": "import time\nimport numpy as np\nticks\u003dtime.time()\nlocaltime\u003dtime.localtime(ticks)\nprint(localtime)"
    },
    {
      "cell_type": "code",
      "execution_count": 2,
      "metadata": {
        "pycharm": {
          "is_executing": false
        }
      },
      "outputs": [
        {
          "traceback": [
            "\u001b[0;31m---------------------------------------------------------------------------\u001b[0m",
            "\u001b[0;31mFileNotFoundError\u001b[0m                         Traceback (most recent call last)",
            "\u001b[0;32m\u003cipython-input-2-a05f74c8d5da\u003e\u001b[0m in \u001b[0;36m\u003cmodule\u003e\u001b[0;34m\u001b[0m\n\u001b[0;32m----\u003e 1\u001b[0;31m \u001b[0mfh\u001b[0m\u001b[0;34m\u003d\u001b[0m\u001b[0mopen\u001b[0m\u001b[0;34m(\u001b[0m\u001b[0;34m\"DataAnalyse/affinity_dataset.txt\"\u001b[0m\u001b[0;34m,\u001b[0m\u001b[0;34m\"r\"\u001b[0m\u001b[0;34m)\u001b[0m\u001b[0;34m\u001b[0m\u001b[0m\n\u001b[0m\u001b[1;32m      2\u001b[0m \u001b[0mx\u001b[0m\u001b[0;34m\u003d\u001b[0m\u001b[0mfh\u001b[0m\u001b[0;34m.\u001b[0m\u001b[0mread\u001b[0m\u001b[0;34m(\u001b[0m\u001b[0;34m)\u001b[0m\u001b[0;34m\u001b[0m\u001b[0m\n\u001b[1;32m      3\u001b[0m \u001b[0mfh\u001b[0m\u001b[0;34m.\u001b[0m\u001b[0mclose\u001b[0m\u001b[0;34m(\u001b[0m\u001b[0;34m)\u001b[0m\u001b[0;34m\u001b[0m\u001b[0m\n",
            "\u001b[0;31mFileNotFoundError\u001b[0m: [Errno 2] No such file or directory: \u0027DataAnalyse/affinity_dataset.txt\u0027"
          ],
          "ename": "FileNotFoundError",
          "evalue": "[Errno 2] No such file or directory: \u0027DataAnalyse/affinity_dataset.txt\u0027",
          "output_type": "error"
        }
      ],
      "source": [
        "fh\u003dopen(\"DataAnalyse/affinity_dataset.txt\",\"r\")\n",
        "x\u003dfh.read()\n",
        "fh.close()"
      ]
    },
    {
      "cell_type": "code",
      "execution_count": 2,
      "metadata": {
        "pycharm": {
          "is_executing": false
        }
      },
      "outputs": [],
      "source": [
        "\n"
      ]
    },
    {
      "cell_type": "code",
      "execution_count": 3,
      "metadata": {
        "collapsed": true,
        "pycharm": {
          "is_executing": false
        }
      },
      "outputs": [
        {
          "name": "stdout",
          "text": [
            "[0, 1, 12, 3, 4, 5, 6, 7, 8, 9, 10, 11]\n"
          ],
          "output_type": "stream"
        }
      ],
      "source": [
        "a\u003dlist(range(12))\n",
        "b\u003drange(12)\n",
        "c\u003d[]\n",
        "a[2]\u003d12   \n",
        "    \n",
        "print(a)"
      ]
    },
    {
      "cell_type": "code",
      "execution_count": 40,
      "metadata": {
        "pycharm": {}
      },
      "outputs": [
        {
          "name": "stdout",
          "output_type": "stream",
          "text": [
            "[[0 1 2 3 4 5 6 7 8 9]\n [0 1 2 3 4 5 6 7 8 9]]\n"
          ]
        }
      ],
      "source": [
        "a\u003dnp.array([range(10),range(10)])\n",
        "print(a)"
      ]
    },
    {
      "cell_type": "code",
      "execution_count": 49,
      "metadata": {
        "collapsed": false,
        "pycharm": {}
      },
      "outputs": [
        {
          "name": "stdout",
          "output_type": "stream",
          "text": [
            "[-0.72836747 -0.36807634 -0.46895465  0.51540329  0.47680205  0.10342807\n -2.72005845]\n"
          ]
        }
      ],
      "source": [
        "from numpy.random import randn\n",
        "x\u003drandn(7,7)\n",
        "print(x[1])"
      ]
    },
    {
      "cell_type": "code",
      "execution_count": 5,
      "metadata": {
        "collapsed": true,
        "pycharm": {}
      },
      "outputs": [
        {
          "name": "stdout",
          "output_type": "stream",
          "text": [
            "[[0, 1, 0, 0], [1, 0, 1, 0], [0, 0, 0, 1], [0, 0, 0, 0]]\n[[1 0 1 0]\n [0 1 0 1]\n [0 0 0 0]\n [0 0 0 0]]\n[[0 1 0 1]\n [1 0 1 0]\n [0 0 0 0]\n [0 0 0 0]]\n[[1 0 1 0]\n [0 1 0 1]\n [0 0 0 0]\n [0 0 0 0]]\n"
          ]
        }
      ],
      "source": [
        "import numpy as np\n",
        "a\u003d[[1,2,3,4,5,6],[4,5,6,7,8,9]]\n",
        "b\u003d[[1,2],[2,3],[3,4],[4,5],[5,6],[7,8]]\n",
        "r\u003d[[0,1,0,0],\n",
        "   [1,0,1,0],\n",
        "   [0,0,0,1],\n",
        "   [0,0,0,0]\n",
        "]\n",
        "r2\u003dnp.dot(r,r)#矩阵乘法\n",
        "r3\u003dnp.dot(r2,r)\n",
        "r4\u003dnp.dot(r3,r)\n",
        "print(r)\n",
        "print(r2)\n",
        "print(r3)\n",
        "print(r4)"
      ]
    },
    {
      "cell_type": "code",
      "execution_count": 1,
      "metadata": {
        "collapsed": true,
        "pycharm": {}
      },
      "outputs": [
        {
          "name": "stdout",
          "output_type": "stream",
          "text": [
            "e   -12\nf   -34\ng    90\nh    34\ndtype: int64\n[10 11 12 13 14]\n1    3.45\n2    1.67\n3    5.56\n4    7.89\n5    9.01\ndtype: float64 \n 1    5\n2    6\n3    7\n4    8\n5    9\ndtype: int32 \n\n"
          ]
        },
        {
          "name": "stdout",
          "output_type": "stream",
          "text": [
            "协方差： \t 4.335\n相关系数： 0.902611941976\n\u003d\u003d\u003d\u003d\u003d\u003d\u003d\u003d\u003d\u003d\u003d\u003d\u003d\u003d\u003d\u003d\u003d\u003d\u003d\u003d\u003d\u003d\u003d\u003d\u003d\u003d\u003d\u003d\u003d\u003d\n"
          ]
        }
      ],
      "source": [
        "import pandas as pd\n",
        "import numpy as np\n",
        "s\u003d pd.Series([-12,-34,90,34],index\u003d[\u0027e\u0027,\u0027f\u0027,\u0027g\u0027,\u0027h\u0027])\n",
        "print(s)\n",
        "print(np.arange(10,15))\n",
        "seq1 \u003d pd.Series(np.array([3.45,1.67,5.56,7.89,9.01]),index\u003dnp.arange(1,6))\n",
        "seq2 \u003d pd.Series(np.arange(5,10),index\u003dnp.arange(1,6))\n",
        "print(seq1,\u0027\\n\u0027,seq2,\u0027\\n\u0027)\n",
        "print(\"协方差：\",\u0027\\t\u0027,seq1.cov(seq2))\n",
        "print(\"相关系数：\",seq1.corr(seq2))\n",
        "print(\"\u003d\"*30)\n",
        "\n",
        "\n"
      ]
    },
    {
      "cell_type": "code",
      "execution_count": 2,
      "metadata": {
        "collapsed": false,
        "pycharm": {}
      },
      "outputs": [
        {
          "name": "stdout",
          "output_type": "stream",
          "text": [
            "      d1     d2     d3      d4\na   1.00   4.00   5.00   6.000\nb   8.90  12.60  19.98  33.870\nc  23.11  34.56  22.45  19.987\nd -23.10  90.70  34.60  89.400\n相关系数： \n           d1        d2        d3        d4\nd1  1.000000 -0.676469 -0.426407 -0.785193\nd2 -0.676469  1.000000  0.897642  0.925333\nd3 -0.426407  0.897642  1.000000  0.891530\nd4 -0.785193  0.925333  0.891530  1.000000\n协方差： \n             d1           d2          d3           d4\nd1  374.446692  -510.602183 -100.282608  -555.193883\nd2 -510.602183  1521.526233  425.548683  1318.897738\nd3 -100.282608   425.548683  147.710892   395.927608\nd4 -555.193883  1318.897738  395.927608  1335.201352\n"
          ]
        }
      ],
      "source": [
        "#计算dataFrame结构数据的协方差以及相关系数\n",
        "frame \u003d pd.DataFrame([[1,4,5,6],[8.9,12.6,19.98,33.87],[23.11,34.56,22.45,19.987],[-23.1,90.7,34.6,89.4]],index\u003d[\u0027a\u0027,\u0027b\u0027,\u0027c\u0027,\u0027d\u0027],columns\u003d[\u0027d1\u0027,\u0027d2\u0027,\u0027d3\u0027,\u0027d4\u0027])\n",
        "print(frame)\n",
        "print(\"相关系数：\",\u0027\\n\u0027,frame.corr())\n",
        "print(\"协方差：\",\u0027\\n\u0027,frame.cov())"
      ]
    },
    {
      "cell_type": "code",
      "execution_count": 3,
      "metadata": {
        "collapsed": false,
        "pycharm": {}
      },
      "outputs": [
        {
          "name": "stdout",
          "output_type": "stream",
          "text": [
            "等级索引案例: \n white  up       0.581036\n       down     0.732923\n       right    0.842040\nblue   up       0.920236\n       down     0.887100\nred    up       0.645791\n       down     0.073538\n       right    0.385299\ndtype: float64\nMultiIndex(levels\u003d[[\u0027blue\u0027, \u0027red\u0027, \u0027white\u0027], [\u0027down\u0027, \u0027right\u0027, \u0027up\u0027]],\n           labels\u003d[[2, 2, 2, 0, 0, 1, 1, 1], [2, 0, 1, 2, 0, 2, 0, 1]])\n\n up       0.581036\ndown     0.732923\nright    0.842040\ndtype: float64\n0.581036450679\n           down     right        up\nblue   0.887100       NaN  0.920236\nred    0.073538  0.385299  0.645791\nwhite  0.732923  0.842040  0.581036\n           down     right        up\nblue   0.887100       NaN  0.920236\nred    0.073538  0.385299  0.645791\nwhite  0.732923  0.842040  0.581036\nblue   down     0.887100\n       up       0.920236\nred    down     0.073538\n       right    0.385299\n       up       0.645791\nwhite  down     0.732923\n       right    0.842040\n       up       0.581036\ndtype: float64\n"
          ]
        }
      ],
      "source": [
        "#Series等级索引和分级\n",
        "ser \u003d pd.Series(np.random.rand(8),index\u003d[[\u0027white\u0027,\u0027white\u0027,\u0027white\u0027,\u0027blue\u0027,\u0027blue\u0027,\u0027red\u0027,\u0027red\u0027,\u0027red\u0027],[\u0027up\u0027,\u0027down\u0027,\u0027right\u0027,\u0027up\u0027,\u0027down\u0027,\u0027up\u0027,\u0027down\u0027,\u0027right\u0027]])\n",
        "print(\u0027等级索引案例:\u0027,\u0027\\n\u0027,ser)\n",
        "print(ser.index)\n",
        "print(\u0027\\n\u0027,ser[\u0027white\u0027])\n",
        "#选取某个等级的子等级\n",
        "print(ser[\u0027white\u0027,\u0027up\u0027])\n",
        "#调整形状\u003d\u003d返回一个Series对象\n",
        "print(ser.unstack())\n",
        "#生成一个dataFrame对象,(通过series对象)\n",
        "ser_01 \u003d ser.unstack()\n",
        "frame \u003d pd.DataFrame(ser_01)\n",
        "print(frame)\n",
        "#如果想在吧dataFrame对象转换为Series对象,可使用series.stack()方法实现\n",
        "ser_02 \u003d frame.stack()\n",
        "print(ser_02)"
      ]
    },
    {
      "cell_type": "code",
      "execution_count": 1,
      "metadata": {
        "pycharm": {}
      },
      "outputs": [],
      "source": []
    },
    {
      "cell_type": "code",
      "execution_count": null,
      "metadata": {
        "pycharm": {}
      },
      "outputs": [],
      "source": []
    }
  ],
  "metadata": {
    "kernelspec": {
      "name": "python3",
      "language": "python",
      "display_name": "Python 3"
    },
    "language_info": {
      "codemirror_mode": {
        "name": "ipython",
        "version": 2
      },
      "file_extension": ".py",
      "mimetype": "text/x-python",
      "name": "python",
      "nbconvert_exporter": "python",
      "pygments_lexer": "ipython2",
      "version": "2.7.6"
    }
  },
  "nbformat": 4,
  "nbformat_minor": 0
}