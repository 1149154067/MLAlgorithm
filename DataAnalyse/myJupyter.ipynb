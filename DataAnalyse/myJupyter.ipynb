{
 "cells": [
  {
   "cell_type": "code",
   "execution_count": 4,
   "metadata": {
    "collapsed": false
   },
   "outputs": [
    {
     "name": "stdout",
     "output_type": "stream",
     "text": [
      "time.struct_time(tm_year=2017, tm_mon=10, tm_mday=28, tm_hour=18, tm_min=54, tm_sec=36, tm_wday=5, tm_yday=301, tm_isdst=0)\n"
     ]
    }
   ],
   "source": [
    "import time\n",
    "ticks=time.time()\n",
    "localtime=time.localtime(ticks)\n",
    "print(localtime)"
   ]
  },
  {
   "cell_type": "code",
   "execution_count": 12,
   "metadata": {},
   "outputs": [],
   "source": [
    "fh=open(\"DataAnalyse/affinity_dataset.txt\",\"r\")\n",
    "x=fh.read()\n",
    "fh.close()"
   ]
  },
  {
   "cell_type": "code",
   "execution_count": null,
   "metadata": {},
   "outputs": [],
   "source": [
    "\n"
   ]
  },
  {
   "cell_type": "code",
   "execution_count": 1,
   "metadata": {
    "collapsed": true
   },
   "outputs": [
    {
     "name": "stdout",
     "output_type": "stream",
     "text": [
      "[0, 1, 12, 3, 4, 5, 6, 7, 8, 9, 10, 11]\n"
     ]
    }
   ],
   "source": [
    "a=list(range(12))\n",
    "b=range(12)\n",
    "c=[]\n",
    "a[2]=12   \n",
    "    \n",
    "print(a)"
   ]
  },
  {
   "cell_type": "code",
   "execution_count": 40,
   "metadata": {},
   "outputs": [
    {
     "name": "stdout",
     "output_type": "stream",
     "text": [
      "[[0 1 2 3 4 5 6 7 8 9]\n [0 1 2 3 4 5 6 7 8 9]]\n"
     ]
    }
   ],
   "source": [
    "a=np.array([range(10),range(10)])\n",
    "print(a)"
   ]
  },
  {
   "cell_type": "code",
   "execution_count": 49,
   "metadata": {
    "collapsed": false
   },
   "outputs": [
    {
     "name": "stdout",
     "output_type": "stream",
     "text": [
      "[-0.72836747 -0.36807634 -0.46895465  0.51540329  0.47680205  0.10342807\n -2.72005845]\n"
     ]
    }
   ],
   "source": [
    "from numpy.random import randn\n",
    "x=randn(7,7)\n",
    "print(x[1])"
   ]
  },
  {
   "cell_type": "code",
   "execution_count": 5,
   "metadata": {
    "collapsed": true
   },
   "outputs": [
    {
     "name": "stdout",
     "output_type": "stream",
     "text": [
      "[[0, 1, 0, 0], [1, 0, 1, 0], [0, 0, 0, 1], [0, 0, 0, 0]]\n[[1 0 1 0]\n [0 1 0 1]\n [0 0 0 0]\n [0 0 0 0]]\n[[0 1 0 1]\n [1 0 1 0]\n [0 0 0 0]\n [0 0 0 0]]\n[[1 0 1 0]\n [0 1 0 1]\n [0 0 0 0]\n [0 0 0 0]]\n"
     ]
    }
   ],
   "source": [
    "import numpy as np\n",
    "a=[[1,2,3,4,5,6],[4,5,6,7,8,9]]\n",
    "b=[[1,2],[2,3],[3,4],[4,5],[5,6],[7,8]]\n",
    "r=[[0,1,0,0],\n",
    "   [1,0,1,0],\n",
    "   [0,0,0,1],\n",
    "   [0,0,0,0]\n",
    "]\n",
    "r2=np.dot(r,r)#矩阵乘法\n",
    "r3=np.dot(r2,r)\n",
    "r4=np.dot(r3,r)\n",
    "print(r)\n",
    "print(r2)\n",
    "print(r3)\n",
    "print(r4)"
   ]
  },
  {
   "cell_type": "code",
   "execution_count": 1,
   "metadata": {
    "collapsed": true
   },
   "outputs": [
    {
     "name": "stdout",
     "output_type": "stream",
     "text": [
      "e   -12\nf   -34\ng    90\nh    34\ndtype: int64\n[10 11 12 13 14]\n1    3.45\n2    1.67\n3    5.56\n4    7.89\n5    9.01\ndtype: float64 \n 1    5\n2    6\n3    7\n4    8\n5    9\ndtype: int32 \n\n"
     ]
    },
    {
     "name": "stdout",
     "output_type": "stream",
     "text": [
      "协方差： \t 4.335\n相关系数： 0.902611941976\n==============================\n"
     ]
    }
   ],
   "source": [
    "import pandas as pd\n",
    "import numpy as np\n",
    "s= pd.Series([-12,-34,90,34],index=['e','f','g','h'])\n",
    "print(s)\n",
    "print(np.arange(10,15))\n",
    "seq1 = pd.Series(np.array([3.45,1.67,5.56,7.89,9.01]),index=np.arange(1,6))\n",
    "seq2 = pd.Series(np.arange(5,10),index=np.arange(1,6))\n",
    "print(seq1,'\\n',seq2,'\\n')\n",
    "print(\"协方差：\",'\\t',seq1.cov(seq2))\n",
    "print(\"相关系数：\",seq1.corr(seq2))\n",
    "print(\"=\"*30)\n",
    "\n",
    "\n"
   ]
  },
  {
   "cell_type": "code",
   "execution_count": 2,
   "metadata": {
    "collapsed": false
   },
   "outputs": [
    {
     "name": "stdout",
     "output_type": "stream",
     "text": [
      "      d1     d2     d3      d4\na   1.00   4.00   5.00   6.000\nb   8.90  12.60  19.98  33.870\nc  23.11  34.56  22.45  19.987\nd -23.10  90.70  34.60  89.400\n相关系数： \n           d1        d2        d3        d4\nd1  1.000000 -0.676469 -0.426407 -0.785193\nd2 -0.676469  1.000000  0.897642  0.925333\nd3 -0.426407  0.897642  1.000000  0.891530\nd4 -0.785193  0.925333  0.891530  1.000000\n协方差： \n             d1           d2          d3           d4\nd1  374.446692  -510.602183 -100.282608  -555.193883\nd2 -510.602183  1521.526233  425.548683  1318.897738\nd3 -100.282608   425.548683  147.710892   395.927608\nd4 -555.193883  1318.897738  395.927608  1335.201352\n"
     ]
    }
   ],
   "source": [
    "#计算dataFrame结构数据的协方差以及相关系数\n",
    "frame = pd.DataFrame([[1,4,5,6],[8.9,12.6,19.98,33.87],[23.11,34.56,22.45,19.987],[-23.1,90.7,34.6,89.4]],index=['a','b','c','d'],columns=['d1','d2','d3','d4'])\n",
    "print(frame)\n",
    "print(\"相关系数：\",'\\n',frame.corr())\n",
    "print(\"协方差：\",'\\n',frame.cov())"
   ]
  },
  {
   "cell_type": "code",
   "execution_count": 3,
   "metadata": {
    "collapsed": false
   },
   "outputs": [
    {
     "name": "stdout",
     "output_type": "stream",
     "text": [
      "等级索引案例: \n white  up       0.581036\n       down     0.732923\n       right    0.842040\nblue   up       0.920236\n       down     0.887100\nred    up       0.645791\n       down     0.073538\n       right    0.385299\ndtype: float64\nMultiIndex(levels=[['blue', 'red', 'white'], ['down', 'right', 'up']],\n           labels=[[2, 2, 2, 0, 0, 1, 1, 1], [2, 0, 1, 2, 0, 2, 0, 1]])\n\n up       0.581036\ndown     0.732923\nright    0.842040\ndtype: float64\n0.581036450679\n           down     right        up\nblue   0.887100       NaN  0.920236\nred    0.073538  0.385299  0.645791\nwhite  0.732923  0.842040  0.581036\n           down     right        up\nblue   0.887100       NaN  0.920236\nred    0.073538  0.385299  0.645791\nwhite  0.732923  0.842040  0.581036\nblue   down     0.887100\n       up       0.920236\nred    down     0.073538\n       right    0.385299\n       up       0.645791\nwhite  down     0.732923\n       right    0.842040\n       up       0.581036\ndtype: float64\n"
     ]
    }
   ],
   "source": [
    "#Series等级索引和分级\n",
    "ser = pd.Series(np.random.rand(8),index=[['white','white','white','blue','blue','red','red','red'],['up','down','right','up','down','up','down','right']])\n",
    "print('等级索引案例:','\\n',ser)\n",
    "print(ser.index)\n",
    "print('\\n',ser['white'])\n",
    "#选取某个等级的子等级\n",
    "print(ser['white','up'])\n",
    "#调整形状==返回一个Series对象\n",
    "print(ser.unstack())\n",
    "#生成一个dataFrame对象,(通过series对象)\n",
    "ser_01 = ser.unstack()\n",
    "frame = pd.DataFrame(ser_01)\n",
    "print(frame)\n",
    "#如果想在吧dataFrame对象转换为Series对象,可使用series.stack()方法实现\n",
    "ser_02 = frame.stack()\n",
    "print(ser_02)"
   ]
  },
  {
   "cell_type": "code",
   "execution_count": 1,
   "metadata": {},
   "outputs": [],
   "source": []
  },
  {
   "cell_type": "code",
   "execution_count": null,
   "metadata": {},
   "outputs": [],
   "source": []
  }
 ],
 "metadata": {
  "kernelspec": {
   "display_name": "Python 2",
   "language": "python",
   "name": "python2"
  },
  "language_info": {
   "codemirror_mode": {
    "name": "ipython",
    "version": 2
   },
   "file_extension": ".py",
   "mimetype": "text/x-python",
   "name": "python",
   "nbconvert_exporter": "python",
   "pygments_lexer": "ipython2",
   "version": "2.7.6"
  }
 },
 "nbformat": 4,
 "nbformat_minor": 0
}
